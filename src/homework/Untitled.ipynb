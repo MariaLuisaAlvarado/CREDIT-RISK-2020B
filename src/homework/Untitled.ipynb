{
 "cells": [
  {
   "cell_type": "code",
   "execution_count": 42,
   "metadata": {},
   "outputs": [],
   "source": [
    "from typing import List\n",
    "\n",
    "from fintools.settings import get_logger\n",
    "from fintools.utils import timeit, method_caching\n",
    "\n",
    "\n",
    "\n",
    "logger = get_logger(name=\"notebook\")\n",
    "\n",
    "\n",
    "class Main:\n",
    "\n",
    "    def __init__(self):\n",
    "        logger.info(\"Main object initialized.\")\n",
    "\n",
    "    @method_caching    \n",
    "    def element(self, position: int) -> int:\n",
    "        if position <= 1:\n",
    "            return position\n",
    "        else:\n",
    "            return self.element(position-1) + self.element(position-2)\n",
    "        \n",
    "    @timeit(logger=logger)    \n",
    "    def sequence(self, length: int) -> List[int]:\n",
    "        for i in range(length):\n",
    "            print(self.element(i))\n"
   ]
  },
  {
   "cell_type": "code",
   "execution_count": 43,
   "metadata": {},
   "outputs": [],
   "source": [
    "main = Main()"
   ]
  },
  {
   "cell_type": "code",
   "execution_count": 44,
   "metadata": {},
   "outputs": [
    {
     "data": {
      "text/plain": [
       "832040"
      ]
     },
     "execution_count": 44,
     "metadata": {},
     "output_type": "execute_result"
    }
   ],
   "source": [
    "main.element(30)"
   ]
  },
  {
   "cell_type": "code",
   "execution_count": 45,
   "metadata": {},
   "outputs": [
    {
     "name": "stderr",
     "output_type": "stream",
     "text": [
      "2020-10-05 11:21:15,161 [WARNING] notebook: Execution time 0.0011470317840576172\n"
     ]
    },
    {
     "name": "stdout",
     "output_type": "stream",
     "text": [
      "0\n",
      "1\n",
      "1\n",
      "2\n",
      "3\n",
      "5\n",
      "8\n",
      "13\n",
      "21\n",
      "34\n",
      "55\n",
      "89\n",
      "144\n",
      "233\n",
      "377\n"
     ]
    }
   ],
   "source": [
    "main.sequence(15)"
   ]
  },
  {
   "cell_type": "code",
   "execution_count": null,
   "metadata": {},
   "outputs": [],
   "source": []
  }
 ],
 "metadata": {
  "kernelspec": {
   "display_name": "Python 3",
   "language": "python",
   "name": "python3"
  },
  "language_info": {
   "codemirror_mode": {
    "name": "ipython",
    "version": 3
   },
   "file_extension": ".py",
   "mimetype": "text/x-python",
   "name": "python",
   "nbconvert_exporter": "python",
   "pygments_lexer": "ipython3",
   "version": "3.6.4"
  }
 },
 "nbformat": 4,
 "nbformat_minor": 4
}
