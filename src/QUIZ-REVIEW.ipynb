{
 "cells": [
  {
   "cell_type": "markdown",
   "metadata": {},
   "source": [
    "## QUIZ REVIEW \n",
    "\n",
    "https://docs.google.com/forms/d/e/1FAIpQLSeQ4N-dHrD6eLaJe4Fo1LKrLl6j2fxdY0R0NhigwORGlBf4yg/viewform "
   ]
  },
  {
   "cell_type": "code",
   "execution_count": 1,
   "metadata": {},
   "outputs": [],
   "source": [
    "import numpy as np\n",
    "import pandas as pd\n",
    "\n",
    "def display(number):\n",
    "    print(\"{:,.2f}\".format(number))"
   ]
  },
  {
   "cell_type": "code",
   "execution_count": 2,
   "metadata": {},
   "outputs": [
    {
     "name": "stdout",
     "output_type": "stream",
     "text": [
      "150.79\n"
     ]
    }
   ],
   "source": [
    "display(150.7896)"
   ]
  },
  {
   "cell_type": "markdown",
   "metadata": {},
   "source": [
    "1. Consider the following annuity:\n",
    "* A = $8,200.00\n",
    "* i = 1.8% per month (monthly cap.)\n",
    "* n = 6 months\n",
    "\n",
    "1.1 Calculate the present value:\n",
    "\n",
    "\n",
    "1.2 Calculate the future value:\n"
   ]
  },
  {
   "cell_type": "code",
   "execution_count": 2,
   "metadata": {},
   "outputs": [
    {
     "name": "stdout",
     "output_type": "stream",
     "text": [
      "56,394.35\n"
     ]
    }
   ],
   "source": [
    "A = 10000\n",
    "i = 0.018\n",
    "n = 6\n",
    "\n",
    "res = A * (1 - np.power(1 + i, -n)) / i\n",
    "display(res)"
   ]
  },
  {
   "cell_type": "code",
   "execution_count": 3,
   "metadata": {},
   "outputs": [
    {
     "name": "stdout",
     "output_type": "stream",
     "text": [
      "62,765.68\n"
     ]
    }
   ],
   "source": [
    "A = 10000\n",
    "i = 0.018\n",
    "n = 6\n",
    "\n",
    "res = A * (np.power(1 + i, n) - 1) / i\n",
    "display(res)"
   ]
  },
  {
   "cell_type": "code",
   "execution_count": 5,
   "metadata": {},
   "outputs": [
    {
     "data": {
      "text/plain": [
       "51467.863907389736"
      ]
     },
     "execution_count": 5,
     "metadata": {},
     "output_type": "execute_result"
    }
   ],
   "source": [
    "46243.37 * (1 + i) ** 6"
   ]
  },
  {
   "cell_type": "code",
   "execution_count": 6,
   "metadata": {},
   "outputs": [
    {
     "data": {
      "text/plain": [
       "46243.36648924872"
      ]
     },
     "execution_count": 6,
     "metadata": {},
     "output_type": "execute_result"
    }
   ],
   "source": [
    "51467.86 / (1 + i) ** 6"
   ]
  },
  {
   "cell_type": "markdown",
   "metadata": {},
   "source": [
    "2. Consider the following annuity:\n",
    "* A = $10,200.00\n",
    "* i = 15% annual with quarterly cap.\n",
    "* n = 5 years\n",
    "\n",
    "Hint: 1 quarter = 3 months\n",
    "\n",
    "\n",
    "2.1 Calculate the present value:\n",
    "\n",
    "2.2 Calculate the future value:\n"
   ]
  },
  {
   "cell_type": "code",
   "execution_count": 7,
   "metadata": {},
   "outputs": [
    {
     "name": "stdout",
     "output_type": "stream",
     "text": [
      "141,741.28\n"
     ]
    }
   ],
   "source": [
    "A = 10200\n",
    "i = 0.15 / 4\n",
    "n = 5 * 4\n",
    "\n",
    "res = A * (1 - np.power(1 + i, -n)) / i\n",
    "display(res)"
   ]
  },
  {
   "cell_type": "code",
   "execution_count": 8,
   "metadata": {},
   "outputs": [
    {
     "name": "stdout",
     "output_type": "stream",
     "text": [
      "295,977.34\n"
     ]
    }
   ],
   "source": [
    "A = 10200\n",
    "i = 0.15 / 4\n",
    "n = 5 * 4\n",
    "\n",
    "res = A * (np.power(1 + i, n) - 1) / i\n",
    "display(res)"
   ]
  },
  {
   "cell_type": "code",
   "execution_count": 9,
   "metadata": {},
   "outputs": [
    {
     "data": {
      "text/plain": [
       "295977.3367665988"
      ]
     },
     "execution_count": 9,
     "metadata": {},
     "output_type": "execute_result"
    }
   ],
   "source": [
    "141741.28 * (1 + i) ** 20"
   ]
  },
  {
   "attachments": {
    "image.png": {
     "image/png": "[encoded data removed]"
    }
   },
   "cell_type": "markdown",
   "metadata": {},
   "source": [
    "3. Calculate the interest rate of the following investment project:\n",
    "\n",
    "\n",
    "![image.png](attachment:image.png)\n"
   ]
  },
  {
   "cell_type": "code",
   "execution_count": 10,
   "metadata": {},
   "outputs": [
    {
     "name": "stdout",
     "output_type": "stream",
     "text": [
      "21.10\n"
     ]
    }
   ],
   "source": [
    "# c0 = c1 / (1+i) + c2 * (1 + i) ^ (-2) \n",
    "\n",
    "c0 = 70000\n",
    "c1 = 60000\n",
    "c2 = 30000\n",
    "\n",
    "res = 2 * c2 / (-c1 + np.sqrt(c1**2 + 4*c2*c0)) - 1\n",
    "display(100 * res)"
   ]
  },
  {
   "cell_type": "code",
   "execution_count": 11,
   "metadata": {},
   "outputs": [
    {
     "data": {
      "text/plain": [
       "70002.40705724637"
      ]
     },
     "execution_count": 11,
     "metadata": {},
     "output_type": "execute_result"
    }
   ],
   "source": [
    "30000 * 1.211 ** -2 + 60000 / 1.211"
   ]
  },
  {
   "cell_type": "code",
   "execution_count": 19,
   "metadata": {},
   "outputs": [
    {
     "name": "stdout",
     "output_type": "stream",
     "text": [
      "21.10\n"
     ]
    }
   ],
   "source": [
    "from fintools import irr\n",
    "\n",
    "\n",
    "display(100*irr([-70000, 60000, 30000]))"
   ]
  },
  {
   "attachments": {
    "image.png": {
     "image/png": "[encoded data removed]"
    }
   },
   "cell_type": "markdown",
   "metadata": {},
   "source": [
    "4. Calculate the interest rate of the following investment project:\n",
    "\n",
    "![image.png](attachment:image.png)"
   ]
  },
  {
   "cell_type": "code",
   "execution_count": 8,
   "metadata": {},
   "outputs": [
    {
     "name": "stdout",
     "output_type": "stream",
     "text": [
      "4.52\n"
     ]
    }
   ],
   "source": [
    "cn = 170\n",
    "c0 = 100\n",
    "\n",
    "res = np.power(cn / c0, 1/12) - 1\n",
    "display(100 * res)"
   ]
  },
  {
   "cell_type": "code",
   "execution_count": 14,
   "metadata": {},
   "outputs": [
    {
     "data": {
      "text/plain": [
       "100.02447035853505"
      ]
     },
     "execution_count": 14,
     "metadata": {},
     "output_type": "execute_result"
    }
   ],
   "source": [
    "162 * 1.041 ** -12"
   ]
  },
  {
   "cell_type": "code",
   "execution_count": 15,
   "metadata": {},
   "outputs": [
    {
     "name": "stdout",
     "output_type": "stream",
     "text": [
      "4.10\n"
     ]
    }
   ],
   "source": [
    "cfs = [-100] + 11*[0] + [162]\n",
    "\n",
    "display(100 * irr(amounts=cfs))"
   ]
  },
  {
   "attachments": {
    "image.png": {
     "image/png": "[encoded data removed]"
    }
   },
   "cell_type": "markdown",
   "metadata": {},
   "source": [
    "5. Calculate the interest rate of the following investment project:\n",
    "\n",
    "![image.png](attachment:image.png)"
   ]
  },
  {
   "cell_type": "code",
   "execution_count": 10,
   "metadata": {},
   "outputs": [
    {
     "name": "stdout",
     "output_type": "stream",
     "text": [
      "10.15\n"
     ]
    }
   ],
   "source": [
    "# c0 = c1 / (1+i) + c2 * (1 + i) ^ (-2) \n",
    "\n",
    "c0 = 7000\n",
    "c1 = -5000\n",
    "c2 = 14000\n",
    "\n",
    "res = 2 * c2 / (-c1 + np.sqrt(c1**2 + 4*c2*c0)) - 1\n",
    "display(100 * res)"
   ]
  },
  {
   "cell_type": "code",
   "execution_count": 17,
   "metadata": {},
   "outputs": [
    {
     "name": "stdout",
     "output_type": "stream",
     "text": [
      "30.28\n"
     ]
    }
   ],
   "source": [
    "display(100*irr([-1000, -1000, 3000]))"
   ]
  },
  {
   "cell_type": "code",
   "execution_count": 28,
   "metadata": {},
   "outputs": [
    {
     "data": {
      "text/plain": [
       "999.9482468453908"
      ]
     },
     "execution_count": 28,
     "metadata": {},
     "output_type": "execute_result"
    }
   ],
   "source": [
    "3000 * 1.3028 ** -2 - 1000 / 1.3028"
   ]
  },
  {
   "attachments": {
    "image.png": {
     "image/png": "[encoded data removed]"
    }
   },
   "cell_type": "markdown",
   "metadata": {},
   "source": [
    "6. Calculate the interest rate of the following investment project:\n",
    "\n",
    "![image.png](attachment:image.png)"
   ]
  },
  {
   "cell_type": "code",
   "execution_count": 29,
   "metadata": {},
   "outputs": [
    {
     "name": "stdout",
     "output_type": "stream",
     "text": [
      "13.07\n"
     ]
    }
   ],
   "source": [
    "# c0 = c1 / (1+i) + c2 * (1 + i) ^ (-2) \n",
    "\n",
    "c0 = 5000\n",
    "c1 = 3000\n",
    "c2 = 3000\n",
    "\n",
    "res = 2 * c2 / (-c1 + np.sqrt(c1**2 + 4*c2*c0)) - 1\n",
    "display(100 * res)"
   ]
  },
  {
   "cell_type": "code",
   "execution_count": 30,
   "metadata": {},
   "outputs": [
    {
     "data": {
      "text/plain": [
       "4999.755608698246"
      ]
     },
     "execution_count": 30,
     "metadata": {},
     "output_type": "execute_result"
    }
   ],
   "source": [
    "3000 / 1.1307 + 3000 * 1.1307 ** -2 "
   ]
  },
  {
   "cell_type": "code",
   "execution_count": 32,
   "metadata": {},
   "outputs": [
    {
     "name": "stdout",
     "output_type": "stream",
     "text": [
      "13.07\n"
     ]
    }
   ],
   "source": [
    "display(100*irr([-5000, 3000, 3000]))"
   ]
  },
  {
   "attachments": {
    "image.png": {
     "image/png": "[encoded data removed]"
    }
   },
   "cell_type": "markdown",
   "metadata": {},
   "source": [
    "7. Assuming your hurdle rate is 10%, would it be convenient to invest in the following project? Use the interest rate to decide.\n",
    "\n",
    "![image.png](attachment:image.png)"
   ]
  },
  {
   "cell_type": "code",
   "execution_count": 24,
   "metadata": {},
   "outputs": [
    {
     "name": "stdout",
     "output_type": "stream",
     "text": [
      "15.22\n"
     ]
    }
   ],
   "source": [
    "# YES\n",
    "res = np.power(7550 / 7000, 1/6) - 1\n",
    "display(100 * 12 * res)"
   ]
  },
  {
   "cell_type": "code",
   "execution_count": 37,
   "metadata": {},
   "outputs": [
    {
     "name": "stdout",
     "output_type": "stream",
     "text": [
      "-0.00\n"
     ]
    }
   ],
   "source": [
    "display(2700 * (1 + res) ** -6 - 2500)"
   ]
  },
  {
   "cell_type": "code",
   "execution_count": 38,
   "metadata": {},
   "outputs": [
    {
     "name": "stdout",
     "output_type": "stream",
     "text": [
      "15.49\n"
     ]
    }
   ],
   "source": [
    "display(100*12*irr([-2500] + 5*[0] + [2700]))"
   ]
  },
  {
   "attachments": {
    "image.png": {
     "image/png": "[encoded data removed]"
    }
   },
   "cell_type": "markdown",
   "metadata": {},
   "source": [
    "8. Transform the following cashflow structure into a simple 𝐹=𝑃 (1+𝑖) formulation.\n",
    "\n",
    "![image.png](attachment:image.png)\n",
    "\n",
    "\n",
    "8.1 Submit the present value (P)\n",
    "\n",
    "8.2 Submit the future value (F)\n",
    "\n",
    "8.3 Calculate the interest rate (i)\n"
   ]
  },
  {
   "cell_type": "code",
   "execution_count": 25,
   "metadata": {},
   "outputs": [
    {
     "name": "stdout",
     "output_type": "stream",
     "text": [
      "5,180.93\n",
      "6,000.00\n"
     ]
    }
   ],
   "source": [
    "c0 = 5000\n",
    "c1 = 3200\n",
    "c2 = 3000\n",
    "\n",
    "F = 2*c2\n",
    "P = np.sqrt(c1**2 + 4*c2*c0) - c1\n",
    "\n",
    "display(P)\n",
    "display(F)"
   ]
  },
  {
   "cell_type": "code",
   "execution_count": 26,
   "metadata": {},
   "outputs": [
    {
     "name": "stdout",
     "output_type": "stream",
     "text": [
      "15.81\n"
     ]
    }
   ],
   "source": [
    "i = F/P - 1\n",
    "display(100*i)"
   ]
  },
  {
   "cell_type": "code",
   "execution_count": 42,
   "metadata": {},
   "outputs": [
    {
     "name": "stdout",
     "output_type": "stream",
     "text": [
      "42.01\n"
     ]
    }
   ],
   "source": [
    "# c0 = c1 / (1+i) + c2 * (1 + i) ^ (-2) \n",
    "\n",
    "c0 = 3000\n",
    "c1 = 2500\n",
    "c2 = 2500\n",
    "\n",
    "res = 2 * c2 / (-c1 + np.sqrt(c1**2 + 4*c2*c0)) - 1\n",
    "display(100 * res)"
   ]
  },
  {
   "cell_type": "code",
   "execution_count": 44,
   "metadata": {},
   "outputs": [
    {
     "name": "stdout",
     "output_type": "stream",
     "text": [
      "0.00\n"
     ]
    }
   ],
   "source": [
    "display(F / (1 + i) - P)"
   ]
  },
  {
   "cell_type": "code",
   "execution_count": 48,
   "metadata": {},
   "outputs": [
    {
     "name": "stdout",
     "output_type": "stream",
     "text": [
      "42.01\n"
     ]
    }
   ],
   "source": [
    "display(100*irr([-3520.8, 5000]))"
   ]
  },
  {
   "cell_type": "code",
   "execution_count": 47,
   "metadata": {},
   "outputs": [
    {
     "name": "stdout",
     "output_type": "stream",
     "text": [
      "42.01\n"
     ]
    }
   ],
   "source": [
    "display(100*irr([-3000, 2500, 2500]))"
   ]
  },
  {
   "cell_type": "code",
   "execution_count": null,
   "metadata": {},
   "outputs": [],
   "source": [
    "display(100*irr([0, , 2500]))"
   ]
  },
  {
   "cell_type": "code",
   "execution_count": 53,
   "metadata": {},
   "outputs": [
    {
     "data": {
      "text/plain": [
       "-2500.0"
      ]
     },
     "execution_count": 53,
     "metadata": {},
     "output_type": "execute_result"
    }
   ],
   "source": [
    "-3000 * (1 + res) ** 2 + 2500 * (1 + res) + 2500"
   ]
  },
  {
   "attachments": {
    "image.png": {
     "image/png": "[encoded data removed]"
    }
   },
   "cell_type": "markdown",
   "metadata": {},
   "source": [
    "9. Calculate the missing cashflow using an interest rate of 8.2% per period.\n",
    "\n",
    "![image.png](attachment:image.png)"
   ]
  },
  {
   "cell_type": "code",
   "execution_count": 15,
   "metadata": {},
   "outputs": [
    {
     "name": "stdout",
     "output_type": "stream",
     "text": [
      "46,435.71\n"
     ]
    }
   ],
   "source": [
    "c0 = 60000\n",
    "c2 = 20000\n",
    "i = 0.082\n",
    "\n",
    "c1 = (1 + i)*(c0 - c2 * (1 + i) ** -2)\n",
    "display(c1)"
   ]
  },
  {
   "cell_type": "code",
   "execution_count": 16,
   "metadata": {},
   "outputs": [
    {
     "data": {
      "text/plain": [
       "0.0"
      ]
     },
     "execution_count": 16,
     "metadata": {},
     "output_type": "execute_result"
    }
   ],
   "source": [
    "20000 * (1 + i) ** -2 + c1 * (1 + i) ** -1 - 60000"
   ]
  },
  {
   "cell_type": "code",
   "execution_count": null,
   "metadata": {},
   "outputs": [],
   "source": []
  },
  {
   "cell_type": "code",
   "execution_count": null,
   "metadata": {},
   "outputs": [],
   "source": []
  },
  {
   "cell_type": "code",
   "execution_count": null,
   "metadata": {},
   "outputs": [],
   "source": []
  },
  {
   "cell_type": "markdown",
   "metadata": {},
   "source": [
    "## GROUP ACTIVITY"
   ]
  },
  {
   "attachments": {
    "image.png": {
     "image/png": "[encoded data removed]"
    }
   },
   "cell_type": "markdown",
   "metadata": {},
   "source": [
    " Calculate the interest rate of the following investment project:\n",
    " \n",
    " ![image.png](attachment:image.png)"
   ]
  },
  {
   "cell_type": "code",
   "execution_count": 56,
   "metadata": {},
   "outputs": [
    {
     "name": "stdout",
     "output_type": "stream",
     "text": [
      "4.92\n"
     ]
    }
   ],
   "source": [
    "# c0 = c1 / (1+i) + c2 * (1 + i) ^ (-2) \n",
    "\n",
    "c0 = 75000\n",
    "c1 = 52000\n",
    "c2 = 28000\n",
    "\n",
    "res = 2 * c2 / (-c1 + np.sqrt(c1**2 + 4*c2*c0)) - 1\n",
    "display(100 * res)"
   ]
  },
  {
   "attachments": {
    "image.png": {
     "image/png": "[encoded data removed]"
    }
   },
   "cell_type": "markdown",
   "metadata": {},
   "source": [
    "Calculate the interest rate of the following investment project:\n",
    "\n",
    "![image.png](attachment:image.png)"
   ]
  },
  {
   "cell_type": "code",
   "execution_count": 57,
   "metadata": {},
   "outputs": [
    {
     "name": "stdout",
     "output_type": "stream",
     "text": [
      "3.86\n"
     ]
    }
   ],
   "source": [
    "# 3.86\n",
    "\n",
    "cn = 1575\n",
    "c0 = 1000\n",
    "\n",
    "res = np.power(cn / c0, 1/12) - 1\n",
    "display(100 * res)"
   ]
  },
  {
   "attachments": {
    "image.png": {
     "image/png": "[encoded data removed]"
    }
   },
   "cell_type": "markdown",
   "metadata": {},
   "source": [
    "Calculate the interest rate of the following investment project:\n",
    "\n",
    "![image.png](attachment:image.png)\n"
   ]
  },
  {
   "cell_type": "code",
   "execution_count": 58,
   "metadata": {},
   "outputs": [
    {
     "name": "stdout",
     "output_type": "stream",
     "text": [
      "12.88\n"
     ]
    }
   ],
   "source": [
    "# 12.88\n",
    "# c0 = c1 / (1+i) + c2 * (1 + i) ^ (-2) \n",
    "\n",
    "c0 = 10000\n",
    "c1 = -2000\n",
    "c2 = 15000\n",
    "\n",
    "res = 2 * c2 / (-c1 + np.sqrt(c1**2 + 4*c2*c0)) - 1\n",
    "display(100 * res)"
   ]
  },
  {
   "attachments": {
    "image.png": {
     "image/png": "[encoded data removed]"
    }
   },
   "cell_type": "markdown",
   "metadata": {},
   "source": [
    "Assuming your hurdle rate is 10% annual, would it be convenient to invest in the following project? Use the interest rate to decide. \n",
    "\n",
    "![image.png](attachment:image.png)\n"
   ]
  },
  {
   "cell_type": "code",
   "execution_count": 64,
   "metadata": {},
   "outputs": [
    {
     "name": "stdout",
     "output_type": "stream",
     "text": [
      "10.52\n"
     ]
    }
   ],
   "source": [
    "# \n",
    "cn = 6322.57\n",
    "c0 = 6000\n",
    "\n",
    "res = np.power(cn / c0, 1/6) - 1\n",
    "display(100 * 12 * res)"
   ]
  },
  {
   "cell_type": "code",
   "execution_count": null,
   "metadata": {},
   "outputs": [],
   "source": []
  },
  {
   "attachments": {
    "image.png": {
     "image/png": "[encoded data removed]"
    }
   },
   "cell_type": "markdown",
   "metadata": {},
   "source": [
    "Transform the following cashflow structure into a simple F=P(1+i) formulation. Submit the value of P. *\n",
    "\n",
    "![image.png](attachment:image.png)"
   ]
  },
  {
   "cell_type": "code",
   "execution_count": 66,
   "metadata": {},
   "outputs": [
    {
     "name": "stdout",
     "output_type": "stream",
     "text": [
      "6,787.09\n"
     ]
    }
   ],
   "source": [
    "# 6787.08\n",
    "\n",
    "c0 = 5000\n",
    "c1 = 2500\n",
    "c2 = 4000\n",
    "\n",
    "display(np.sqrt(c1**2 + 4*c2*c0) - c1)"
   ]
  },
  {
   "attachments": {
    "image.png": {
     "image/png": "[encoded data removed]"
    }
   },
   "cell_type": "markdown",
   "metadata": {},
   "source": [
    "Calculate the missing cashflow using an interest rate of 6.10% per period. *\n",
    "\n",
    "![image.png](attachment:image.png)"
   ]
  },
  {
   "cell_type": "code",
   "execution_count": 17,
   "metadata": {},
   "outputs": [
    {
     "name": "stdout",
     "output_type": "stream",
     "text": [
      "17,001.60\n"
     ]
    }
   ],
   "source": [
    "# 33418.44\n",
    "\n",
    "c0 = 25000\n",
    "c2 = 10000\n",
    "i = 0.0581\n",
    "\n",
    "c1 = (1 + i)*(c0 - c2 * (1 + i) ** -2)\n",
    "display(c1)"
   ]
  },
  {
   "cell_type": "code",
   "execution_count": 23,
   "metadata": {},
   "outputs": [
    {
     "name": "stdout",
     "output_type": "stream",
     "text": [
      "5.81\n"
     ]
    }
   ],
   "source": [
    "display(100*irr([-25000, 17001.60, 10000]))"
   ]
  },
  {
   "attachments": {
    "image.png": {
     "image/png": "[encoded data removed]"
    }
   },
   "cell_type": "markdown",
   "metadata": {},
   "source": [
    "Calculate the missing cashflow using an interest rate of 5.0% per period. *\n",
    "\n",
    "![image.png](attachment:image.png)"
   ]
  },
  {
   "cell_type": "code",
   "execution_count": 68,
   "metadata": {},
   "outputs": [
    {
     "name": "stdout",
     "output_type": "stream",
     "text": [
      "-70,294.78\n"
     ]
    }
   ],
   "source": [
    "c1 = 50000\n",
    "c2 = 25000\n",
    "\n",
    "c0 = -(c1 / 1.05 + c2 * 1.05 ** -2)\n",
    "display(c0)"
   ]
  },
  {
   "cell_type": "code",
   "execution_count": 70,
   "metadata": {},
   "outputs": [
    {
     "name": "stdout",
     "output_type": "stream",
     "text": [
      "5.00\n"
     ]
    }
   ],
   "source": [
    "display(100*irr([-70294.78, 50000, 25000]))"
   ]
  },
  {
   "attachments": {
    "image.png": {
     "image/png": "[encoded data removed]"
    }
   },
   "cell_type": "markdown",
   "metadata": {},
   "source": [
    "Calculate the missing cashflow using an interest rate of 8.0% per period.\n",
    "\n",
    "![image.png](attachment:image.png)"
   ]
  },
  {
   "cell_type": "code",
   "execution_count": 74,
   "metadata": {},
   "outputs": [
    {
     "name": "stdout",
     "output_type": "stream",
     "text": [
      "-980.38\n"
     ]
    }
   ],
   "source": [
    "c0 = -1235 * 1.08 ** -3\n",
    "display(c0)"
   ]
  },
  {
   "cell_type": "code",
   "execution_count": 76,
   "metadata": {},
   "outputs": [
    {
     "name": "stdout",
     "output_type": "stream",
     "text": [
      "8.00\n"
     ]
    }
   ],
   "source": [
    "display(100*irr([c0, 0, 0, 1235]))"
   ]
  },
  {
   "cell_type": "code",
   "execution_count": 77,
   "metadata": {},
   "outputs": [
    {
     "data": {
      "text/plain": [
       "0.0"
      ]
     },
     "execution_count": 77,
     "metadata": {},
     "output_type": "execute_result"
    }
   ],
   "source": [
    "c0 + 1235 * 1.08 ** -3"
   ]
  },
  {
   "cell_type": "code",
   "execution_count": null,
   "metadata": {},
   "outputs": [],
   "source": []
  }
 ],
 "metadata": {
  "kernelspec": {
   "display_name": "Python 3",
   "language": "python",
   "name": "python3"
  },
  "language_info": {
   "codemirror_mode": {
    "name": "ipython",
    "version": 3
   },
   "file_extension": ".py",
   "mimetype": "text/x-python",
   "name": "python",
   "nbconvert_exporter": "python",
   "pygments_lexer": "ipython3",
   "version": "3.6.4"
  }
 },
 "nbformat": 4,
 "nbformat_minor": 4
}
