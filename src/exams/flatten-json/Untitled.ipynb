{
 "cells": [
  {
   "cell_type": "code",
   "execution_count": 225,
   "metadata": {},
   "outputs": [
    {
     "data": {
      "text/plain": [
       "{'a': 1, 'b': [{'c': 2}, {'d': 3, 'e': [4, 5, {'f': {'g': 6}}]}]}"
      ]
     },
     "execution_count": 225,
     "metadata": {},
     "output_type": "execute_result"
    }
   ],
   "source": [
    "content"
   ]
  },
  {
   "cell_type": "code",
   "execution_count": 172,
   "metadata": {},
   "outputs": [
    {
     "data": {
      "text/plain": [
       "dict_items([('a', 1), ('b', 2), ('c', [3, 4, 5])])"
      ]
     },
     "execution_count": 172,
     "metadata": {},
     "output_type": "execute_result"
    }
   ],
   "source": [
    "a= content.items()\n",
    "a"
   ]
  },
  {
   "cell_type": "code",
   "execution_count": 178,
   "metadata": {},
   "outputs": [],
   "source": [
    "def flatten_dictionary(var):\n",
    "    res={}\n",
    "    \n",
    "    for key, val in var.items(): #tupla with key and value\n",
    "        if isinstance(val,dict) :\n",
    "            val=[val]\n",
    "            print(val)\n",
    "        if isinstance(val, list):\n",
    "            for i in val:\n",
    "                x=flatten_dictionary(i).items()\n",
    "                print(x)\n",
    "                #for key2,val2 in x:\n",
    "                 #   res.update(key + '.' + key2,val2)\n",
    "                res.update({key + '.' + key2: val2 for key2, val2 in x})\n",
    "                #refesh and add data\n",
    "        else:\n",
    "            res[key]=val\n",
    "    return res"
   ]
  },
  {
   "cell_type": "code",
   "execution_count": 179,
   "metadata": {},
   "outputs": [
    {
     "name": "stdout",
     "output_type": "stream",
     "text": [
      "[{'d': 5, 'e': 6}]\n",
      "dict_items([('d', 5), ('e', 6)])\n",
      "[{'g': 7, 'h': {'i': {'j': 8}}}]\n",
      "[{'i': {'j': 8}}]\n",
      "[{'j': 8}]\n",
      "dict_items([('j', 8)])\n",
      "dict_items([('i.j', 8)])\n",
      "dict_items([('g', 7), ('h.i.j', 8)])\n"
     ]
    },
    {
     "data": {
      "text/plain": [
       "{'a': 1, 'b': 2, 'c.d': 5, 'c.e': 6, 'f.g': 7, 'f.h.i.j': 8}"
      ]
     },
     "execution_count": 179,
     "metadata": {},
     "output_type": "execute_result"
    }
   ],
   "source": [
    "flatten_dictionary(content)"
   ]
  },
  {
   "cell_type": "code",
   "execution_count": 180,
   "metadata": {},
   "outputs": [],
   "source": [
    "def flatten(input_dict, separator='_', prefix=''):\n",
    "    output_dict = {}\n",
    "    for key, value in input_dict.items():\n",
    "        if isinstance(value, dict) and value:\n",
    "            deeper = flatten(value, separator, prefix+key+separator)\n",
    "            output_dict.update({key2: val2 for key2, val2 in deeper.items()})\n",
    "        elif isinstance(value, list) and value:\n",
    "            for index, sublist in enumerate(val, start=1):\n",
    "                if isinstance(sublist, dict) and sublist:\n",
    "                    deeper = flatten(sublist, separator, prefix+key+separator+str(index)+separator)\n",
    "                    output_dict.update({key2: val2 for key2, val2 in deeper.items()})\n",
    "                else:\n",
    "                    output_dict[prefix+key+separator+str(index)] = value\n",
    "        else:\n",
    "            output_dict[prefix+key] = value\n",
    "    return output_dict"
   ]
  },
  {
   "cell_type": "code",
   "execution_count": 181,
   "metadata": {},
   "outputs": [
    {
     "data": {
      "text/plain": [
       "{'a': 1, 'b': 2, 'c_d': 5, 'c_e': 6, 'f_g': 7, 'f_h_i_j': 8}"
      ]
     },
     "execution_count": 181,
     "metadata": {},
     "output_type": "execute_result"
    }
   ],
   "source": [
    "flatten(content)"
   ]
  },
  {
   "cell_type": "code",
   "execution_count": 242,
   "metadata": {},
   "outputs": [],
   "source": [
    "import json\n",
    "with open(\"ex-5.json\",\"r\") as f:\n",
    "    content=json.loads(f.read())\n",
    "    \n"
   ]
  },
  {
   "cell_type": "code",
   "execution_count": 243,
   "metadata": {},
   "outputs": [],
   "source": [
    "def flatten2(data,deco=\".\"):\n",
    "    import collections\n",
    "\n",
    "    res={}\n",
    "    def recurse(key,value=\"\"):\n",
    "        \n",
    "        if isinstance(key,list):\n",
    "            for i in range(len(key)):\n",
    "                recurse(key[i],value + deco + str(i) if value else str(i))\n",
    "        elif isinstance(key,dict):\n",
    "            for k2,v in key.items():\n",
    "                recurse(v,value+ deco + k2 if value else k2)\n",
    "        else:\n",
    "            res[value]=key\n",
    "    recurse(data)\n",
    "    return res"
   ]
  },
  {
   "cell_type": "code",
   "execution_count": 244,
   "metadata": {},
   "outputs": [
    {
     "data": {
      "text/plain": [
       "{'a': 1, 'b.0.c': 2, 'b.1.d': 3, 'b.1.e.0': 4, 'b.1.e.1': 5, 'b.1.e.2.f.g': 6}"
      ]
     },
     "execution_count": 244,
     "metadata": {},
     "output_type": "execute_result"
    }
   ],
   "source": [
    "flatten2(content)"
   ]
  },
  {
   "cell_type": "code",
   "execution_count": 211,
   "metadata": {},
   "outputs": [],
   "source": [
    "def flatten3(data,deco=\".\"):\n",
    "    import collections\n",
    "\n",
    "    obj = collections.OrderedDict()\n",
    "\n",
    "    def recurse(key,value=\"\"):\n",
    "        \n",
    "        if isinstance(key,list):\n",
    "            for i in range(len(key)):\n",
    "                recurse(key[i],value + deco + str(i) if value else str(i))\n",
    "        elif isinstance(key,dict):\n",
    "            for k2,v in key.items():\n",
    "                recurse(v,value + deco + k2 if value else k2)\n",
    "        else:\n",
    "            obj[value] = key\n",
    "            #parent_key[:-1] =t\n",
    "\n",
    "    recurse(data)\n",
    "\n",
    "    return obj"
   ]
  },
  {
   "cell_type": "code",
   "execution_count": 212,
   "metadata": {},
   "outputs": [
    {
     "data": {
      "text/plain": [
       "OrderedDict([('a', 1),\n",
       "             ('b.0.c', 2),\n",
       "             ('b.1.d', 3),\n",
       "             ('b.1.e.0', 4),\n",
       "             ('b.1.e.1', 5),\n",
       "             ('b.1.e.2.f.g', 6)])"
      ]
     },
     "execution_count": 212,
     "metadata": {},
     "output_type": "execute_result"
    }
   ],
   "source": [
    "flatten3(content)"
   ]
  },
  {
   "cell_type": "code",
   "execution_count": null,
   "metadata": {},
   "outputs": [],
   "source": []
  }
 ],
 "metadata": {
  "kernelspec": {
   "display_name": "Python 3",
   "language": "python",
   "name": "python3"
  },
  "language_info": {
   "codemirror_mode": {
    "name": "ipython",
    "version": 3
   },
   "file_extension": ".py",
   "mimetype": "text/x-python",
   "name": "python",
   "nbconvert_exporter": "python",
   "pygments_lexer": "ipython3",
   "version": "3.7.4"
  }
 },
 "nbformat": 4,
 "nbformat_minor": 2
}
